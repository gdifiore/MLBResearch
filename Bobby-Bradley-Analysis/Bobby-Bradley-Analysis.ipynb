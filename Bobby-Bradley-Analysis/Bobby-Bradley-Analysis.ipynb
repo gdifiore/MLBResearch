{
 "cells": [
  {
   "cell_type": "code",
   "execution_count": 46,
   "source": [
    "import pandas as pd\r\n",
    "import numpy as np\r\n",
    "from pybaseball import statcast_batter\r\n",
    "from pybaseball import playerid_lookup\r\n",
    "from pybaseball import cache\r\n",
    "\r\n",
    "pd.get_option(\"display.max_columns\")\r\n",
    "cache.enable()"
   ],
   "outputs": [],
   "metadata": {}
  },
  {
   "cell_type": "code",
   "execution_count": 47,
   "source": [
    "# we want key_mlbam\r\n",
    "bobby = playerid_lookup(\"Bradley\", \"Bobby\")\r\n",
    "print(bobby)"
   ],
   "outputs": [
    {
     "output_type": "stream",
     "name": "stdout",
     "text": [
      "  name_last name_first  key_mlbam key_retro  key_bbref  key_fangraphs  \\\n",
      "0   bradley      bobby     656252  bradb002  bradlbo01          17278   \n",
      "\n",
      "   mlb_played_first  mlb_played_last  \n",
      "0            2019.0           2021.0  \n"
     ]
    }
   ],
   "metadata": {}
  },
  {
   "cell_type": "code",
   "execution_count": 48,
   "source": [
    "# get pitch by pitch data for bobby, just in case\r\n",
    "full_data = statcast_batter('2021-04-01', '2021-09-01', player_id = 656252)\r\n",
    "#print(full_data.columns.values.tolist())"
   ],
   "outputs": [],
   "metadata": {}
  },
  {
   "cell_type": "code",
   "execution_count": 49,
   "source": [
    "# extract hit data from Bobby\r\n",
    "hit_dataframe = pd.DataFrame(full_data, columns = [\"pitch_type\", \"game_date\", \"events\", \"description\", \"estimated_ba_using_speedangle\", \"estimated_woba_using_speedangle\", \"babip_value\"])\r\n",
    "# we only want balls that Bobby hit into play\r\n",
    "contains_values_hit = hit_dataframe.loc[(hit_dataframe['description'] == \"hit_into_play\")]\r\n",
    "# reset index count\r\n",
    "contains_values_hit.reset_index(drop=True, inplace=True)\r\n",
    "#print(contains_values)\r\n",
    "hit_data = open(\"hit_data.txt\", \"w\")\r\n",
    "hit_data.write(contains_values_hit.to_string())\r\n",
    "hit_data.close()"
   ],
   "outputs": [],
   "metadata": {}
  },
  {
   "cell_type": "code",
   "execution_count": 50,
   "source": [
    "strikeout_dataframe = pd.DataFrame(full_data, columns = [\"pitch_type\", \"game_date\", \"events\", \"description\", \"zone\", \"balls\", \"strikes\", \"release_spin_rate\"])\r\n",
    "contains_values_strikeout = strikeout_dataframe.loc[(strikeout_dataframe['events'] == \"strikeout\")]\r\n",
    "contains_values_strikeout.reset_index(drop=True, inplace=True)\r\n",
    "#print(contains_values_strikeout)\r\n",
    "strikeout_data = open(\"strikeout_data.txt\", \"w\")\r\n",
    "strikeout_data.write(contains_values_strikeout.to_string())\r\n",
    "strikeout_data.close()"
   ],
   "outputs": [],
   "metadata": {}
  },
  {
   "cell_type": "code",
   "execution_count": 51,
   "source": [
    "shift_dataframe = pd.DataFrame(full_data, columns = [\"if_fielding_alignment\", \"of_fielding_alignment\"])\r\n",
    "#print(shift_data)\r\n",
    "\r\n",
    "shift_data = open(\"shift_data.txt\", \"w\")\r\n",
    "shift_data.write(shift_dataframe.to_string())\r\n",
    "shift_data.close()"
   ],
   "outputs": [],
   "metadata": {}
  },
  {
   "cell_type": "markdown",
   "source": [
    "# Analyzing the data we have extracted\r\n",
    "Let's count his most common strikeout pitches\r\n",
    "\r\n",
    "Here's a little glossary for pitch abbreviations\r\n",
    "FA = fastball\r\n",
    "FF = four-seam fastball\r\n",
    "FT = two-seam fastball\r\n",
    "FC = fastball (cutter)\r\n",
    "FS / SI / SF = fastball (sinker, split-fingered)\r\n",
    "SL = slider\r\n",
    "CH = changeup\r\n",
    "CB / CU = curveball\r\n",
    "KC = knuckle-curve\r\n",
    "KN = knuckleball\r\n",
    "EP = eephus\r\n",
    "UN / XX = unidentified\r\n",
    "PO / FO = pitch out"
   ],
   "metadata": {}
  },
  {
   "cell_type": "code",
   "execution_count": 52,
   "source": [
    "contains_values_strikeout[\"pitch_type\"].value_counts()\r\n"
   ],
   "outputs": [
    {
     "output_type": "execute_result",
     "data": {
      "text/plain": [
       "FF    15\n",
       "CH    13\n",
       "SL    13\n",
       "SI    10\n",
       "FC     6\n",
       "CU     5\n",
       "FS     4\n",
       "KC     1\n",
       "Name: pitch_type, dtype: int64"
      ]
     },
     "metadata": {},
     "execution_count": 52
    }
   ],
   "metadata": {}
  },
  {
   "cell_type": "markdown",
   "source": [
    "Fastballs: 35 pitches\r\n",
    "Offspeed: 32 pitches\r\n",
    "\r\n",
    "It doesn't appear as if pitch type alone is something that causes Bobby to strike out more or less this year"
   ],
   "metadata": {}
  },
  {
   "cell_type": "code",
   "execution_count": 53,
   "source": [
    "contains_values_strikeout[\"zone\"].value_counts()\r\n"
   ],
   "outputs": [
    {
     "output_type": "execute_result",
     "data": {
      "text/plain": [
       "14    12\n",
       "11     9\n",
       "7      8\n",
       "13     7\n",
       "9      6\n",
       "1      5\n",
       "2      4\n",
       "4      4\n",
       "12     4\n",
       "3      3\n",
       "8      3\n",
       "6      1\n",
       "5      1\n",
       "Name: zone, dtype: int64"
      ]
     },
     "metadata": {},
     "execution_count": 53
    }
   ],
   "metadata": {}
  },
  {
   "cell_type": "markdown",
   "source": [
    "Here is our possible culprit, pitch location!\r\n",
    "\r\n",
    "Nearly a whopping 60% (59.7%) of his strikeouts come from the zones outside of the called strike zone.\r\n",
    "\r\n",
    "Now, obviously good pitchers will get you to swing outside of the called zone, but better plate discipline is certainly something that can be taught and developed."
   ],
   "metadata": {}
  }
 ],
 "metadata": {
  "orig_nbformat": 4,
  "language_info": {
   "name": "python",
   "version": "3.9.7",
   "mimetype": "text/x-python",
   "codemirror_mode": {
    "name": "ipython",
    "version": 3
   },
   "pygments_lexer": "ipython3",
   "nbconvert_exporter": "python",
   "file_extension": ".py"
  },
  "kernelspec": {
   "name": "python3",
   "display_name": "Python 3.9.7 64-bit"
  },
  "interpreter": {
   "hash": "33dd69cee429637b7e5ecec627a020ea90e31b3e49cd6e65c8a2e3436c15fe25"
  }
 },
 "nbformat": 4,
 "nbformat_minor": 2
}