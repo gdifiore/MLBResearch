{
 "cells": [
  {
   "cell_type": "markdown",
   "source": [
    "# Analyzing Bobby Bradley\r\n",
    "I'm not totally sure what the end result of this will be, but I wanted to mess with 2 new things, pybaseball, and jupyternotebooks.\r\n",
    "\r\n",
    "I'll just be pulling interesting data and maybe adding some commentary about what I see."
   ],
   "metadata": {}
  },
  {
   "cell_type": "code",
   "execution_count": 11,
   "source": [
    "import pandas as pd\r\n",
    "import numpy as np\r\n",
    "from pybaseball import statcast_batter\r\n",
    "from pybaseball import playerid_lookup\r\n",
    "from pybaseball import statcast_batter_exitvelo_barrels\r\n",
    "from pybaseball import cache\r\n",
    "\r\n",
    "pd.get_option(\"display.max_columns\")\r\n",
    "cache.enable()"
   ],
   "outputs": [],
   "metadata": {}
  },
  {
   "cell_type": "code",
   "execution_count": 12,
   "source": [
    "# we want key_mlbam\r\n",
    "bobby = playerid_lookup(\"Bradley\", \"Bobby\")\r\n",
    "print(bobby)"
   ],
   "outputs": [
    {
     "output_type": "stream",
     "name": "stdout",
     "text": [
      "  name_last name_first  key_mlbam key_retro  key_bbref  key_fangraphs  \\\n",
      "0   bradley      bobby     656252  bradb002  bradlbo01          17278   \n",
      "\n",
      "   mlb_played_first  mlb_played_last  \n",
      "0            2019.0           2021.0  \n"
     ]
    }
   ],
   "metadata": {}
  },
  {
   "cell_type": "code",
   "execution_count": 13,
   "source": [
    "# get pitch by pitch data for Bobby\r\n",
    "full_data = statcast_batter('2021-04-01', '2021-09-01', player_id = 656252)\r\n",
    "#print(full_data.columns.values.tolist())"
   ],
   "outputs": [],
   "metadata": {}
  },
  {
   "cell_type": "code",
   "execution_count": 14,
   "source": [
    "# extract hit data from Bobby\r\n",
    "hit_dataframe = pd.DataFrame(full_data, columns = [\"pitch_type\", \"game_date\", \"events\", \"description\", \"estimated_ba_using_speedangle\", \"estimated_woba_using_speedangle\", \"p_throws\"])\r\n",
    "# we only want balls that Bobby hit into play\r\n",
    "contains_values_hit = hit_dataframe.loc[(hit_dataframe['description'] == \"hit_into_play\")]\r\n",
    "# reset index count\r\n",
    "contains_values_hit.reset_index(drop=True, inplace=True)\r\n",
    "print(contains_values_hit)\r\n",
    "hit_data = open(\"hit_data.txt\", \"w\")\r\n",
    "hit_data.write(contains_values_hit.to_string())\r\n",
    "hit_data.close()"
   ],
   "outputs": [
    {
     "output_type": "stream",
     "name": "stdout",
     "text": [
      "    pitch_type   game_date     events    description  \\\n",
      "0           CH  2021-09-01  field_out  hit_into_play   \n",
      "1           FF  2021-09-01  field_out  hit_into_play   \n",
      "2           FC  2021-08-31  field_out  hit_into_play   \n",
      "3           FF  2021-08-31  field_out  hit_into_play   \n",
      "4           CH  2021-08-31  field_out  hit_into_play   \n",
      "..         ...         ...        ...            ...   \n",
      "96          SI  2021-06-06     single  hit_into_play   \n",
      "97          SI  2021-06-06     double  hit_into_play   \n",
      "98          FF  2021-06-06   home_run  hit_into_play   \n",
      "99          FF  2021-06-06  field_out  hit_into_play   \n",
      "100         SI  2021-06-05     double  hit_into_play   \n",
      "\n",
      "     estimated_ba_using_speedangle  estimated_woba_using_speedangle p_throws  \n",
      "0                            0.120                            0.117        R  \n",
      "1                            0.097                            0.167        L  \n",
      "2                            0.007                            0.006        R  \n",
      "3                            0.003                            0.003        R  \n",
      "4                            0.330                            0.356        R  \n",
      "..                             ...                              ...      ...  \n",
      "96                           0.170                            0.167        R  \n",
      "97                           0.817                            0.905        R  \n",
      "98                           0.750                            1.472        L  \n",
      "99                           0.277                            0.258        R  \n",
      "100                          0.670                            0.629        R  \n",
      "\n",
      "[101 rows x 7 columns]\n"
     ]
    }
   ],
   "metadata": {}
  },
  {
   "cell_type": "code",
   "execution_count": 15,
   "source": [
    "strikeout_dataframe = pd.DataFrame(full_data, columns = [\"pitch_type\", \"game_date\", \"events\", \"description\", \"zone\", \"balls\", \"strikes\", \"release_spin_rate\"])\r\n",
    "contains_values_strikeout = strikeout_dataframe.loc[(strikeout_dataframe['events'] == \"strikeout\")]\r\n",
    "contains_values_strikeout.reset_index(drop=True, inplace=True)\r\n",
    "print(contains_values_strikeout)\r\n",
    "strikeout_data = open(\"strikeout_data.txt\", \"w\")\r\n",
    "strikeout_data.write(contains_values_strikeout.to_string())\r\n",
    "strikeout_data.close()"
   ],
   "outputs": [
    {
     "output_type": "stream",
     "name": "stdout",
     "text": [
      "   pitch_type   game_date     events              description  zone  balls  \\\n",
      "0          CH  2021-09-01  strikeout            called_strike    11      1   \n",
      "1          SL  2021-09-01  strikeout            called_strike     6      2   \n",
      "2          FS  2021-08-29  strikeout          swinging_strike     5      0   \n",
      "3          SI  2021-08-28  strikeout          swinging_strike     2      0   \n",
      "4          SL  2021-08-28  strikeout          swinging_strike     4      0   \n",
      "..        ...         ...        ...                      ...   ...    ...   \n",
      "62         FF  2021-06-16  strikeout            called_strike     7      1   \n",
      "63         FF  2021-06-15  strikeout          swinging_strike    11      1   \n",
      "64         SL  2021-06-14  strikeout  swinging_strike_blocked     9      0   \n",
      "65         SL  2021-06-13  strikeout          swinging_strike    14      0   \n",
      "66         CH  2021-06-08  strikeout          swinging_strike    11      2   \n",
      "\n",
      "    strikes  release_spin_rate  \n",
      "0         2             2461.0  \n",
      "1         2             2435.0  \n",
      "2         2             1601.0  \n",
      "3         2             1962.0  \n",
      "4         2             2374.0  \n",
      "..      ...                ...  \n",
      "62        2             2381.0  \n",
      "63        2             2153.0  \n",
      "64        2             2575.0  \n",
      "65        2             2405.0  \n",
      "66        2             1803.0  \n",
      "\n",
      "[67 rows x 8 columns]\n"
     ]
    }
   ],
   "metadata": {}
  },
  {
   "cell_type": "code",
   "execution_count": 16,
   "source": [
    "shift_dataframe = pd.DataFrame(full_data, columns = [\"if_fielding_alignment\", \"of_fielding_alignment\"])\r\n",
    "#print(shift_data)\r\n",
    "\r\n",
    "shift_data = open(\"shift_data.txt\", \"w\")\r\n",
    "shift_data.write(shift_dataframe.to_string())\r\n",
    "shift_data.close()"
   ],
   "outputs": [],
   "metadata": {}
  },
  {
   "cell_type": "code",
   "execution_count": 17,
   "source": [
    "contains_values_actual_hit = hit_dataframe.loc[(hit_dataframe['events'] == \"single\") | (hit_dataframe['events'] == \"double\") | (hit_dataframe['events'] == \"triple\") | (hit_dataframe['events'] == \"home_run\")]\r\n",
    "contains_values_actual_hit.reset_index(drop=True, inplace=True)\r\n",
    "print(contains_values_actual_hit)\r\n",
    "\r\n",
    "contains_values_actual_hit.sort_values(by=['estimated_ba_using_speedangle'], ascending=False)\r\n",
    "\r\n",
    "actual_hit_data = open(\"actual_hit_data.txt\", \"w\")\r\n",
    "actual_hit_data.write(contains_values_actual_hit.to_string())\r\n",
    "actual_hit_data.close()"
   ],
   "outputs": [
    {
     "output_type": "stream",
     "name": "stdout",
     "text": [
      "   pitch_type   game_date    events    description  \\\n",
      "0          FF  2021-08-31  home_run  hit_into_play   \n",
      "1          FF  2021-08-28    single  hit_into_play   \n",
      "2          FF  2021-08-28    single  hit_into_play   \n",
      "3          SL  2021-08-06    double  hit_into_play   \n",
      "4          CH  2021-08-06    single  hit_into_play   \n",
      "5          SI  2021-08-04    single  hit_into_play   \n",
      "6          FC  2021-08-03    single  hit_into_play   \n",
      "7          CU  2021-08-03    double  hit_into_play   \n",
      "8          CH  2021-07-24  home_run  hit_into_play   \n",
      "9          SI  2021-07-18    single  hit_into_play   \n",
      "10         KC  2021-07-10    double  hit_into_play   \n",
      "11         SL  2021-07-09  home_run  hit_into_play   \n",
      "12         SL  2021-07-08  home_run  hit_into_play   \n",
      "13         SI  2021-07-08    single  hit_into_play   \n",
      "14         FF  2021-07-05    single  hit_into_play   \n",
      "15         FF  2021-07-03    double  hit_into_play   \n",
      "16         KC  2021-07-02    single  hit_into_play   \n",
      "17         SI  2021-06-30  home_run  hit_into_play   \n",
      "18         CH  2021-06-30  home_run  hit_into_play   \n",
      "19         FF  2021-06-28    double  hit_into_play   \n",
      "20         SL  2021-06-28    single  hit_into_play   \n",
      "21         SL  2021-06-25  home_run  hit_into_play   \n",
      "22         SL  2021-06-21  home_run  hit_into_play   \n",
      "23         SI  2021-06-17  home_run  hit_into_play   \n",
      "24         FF  2021-06-15  home_run  hit_into_play   \n",
      "25         SL  2021-06-15    single  hit_into_play   \n",
      "26         CH  2021-06-14    single  hit_into_play   \n",
      "27         SI  2021-06-13    single  hit_into_play   \n",
      "28         FF  2021-06-12    single  hit_into_play   \n",
      "29         FF  2021-06-11  home_run  hit_into_play   \n",
      "30         SL  2021-06-11    single  hit_into_play   \n",
      "31         SI  2021-06-06    single  hit_into_play   \n",
      "32         SI  2021-06-06    double  hit_into_play   \n",
      "33         FF  2021-06-06  home_run  hit_into_play   \n",
      "34         SI  2021-06-05    double  hit_into_play   \n",
      "\n",
      "    estimated_ba_using_speedangle  estimated_woba_using_speedangle p_throws  \n",
      "0                           0.177                            0.336        R  \n",
      "1                           0.920                            0.893        R  \n",
      "2                           0.827                            0.760        R  \n",
      "3                           0.503                            0.470        R  \n",
      "4                           0.847                            0.835        R  \n",
      "5                           0.227                            0.204        L  \n",
      "6                           0.473                            0.450        L  \n",
      "7                           0.220                            0.246        L  \n",
      "8                           0.943                            1.917        R  \n",
      "9                           0.640                            0.607        R  \n",
      "10                          0.537                            0.617        L  \n",
      "11                          0.810                            1.293        L  \n",
      "12                          0.533                            1.083        L  \n",
      "13                          0.887                            0.882        R  \n",
      "14                          0.910                            0.875        R  \n",
      "15                          0.907                            1.547        R  \n",
      "16                          0.553                            0.517        R  \n",
      "17                          0.940                            1.764        R  \n",
      "18                          0.943                            1.917        R  \n",
      "19                          0.830                            0.898        L  \n",
      "20                          0.580                            0.522        L  \n",
      "21                          0.917                            1.656        L  \n",
      "22                          0.923                            1.869        R  \n",
      "23                          0.840                            1.672        R  \n",
      "24                          0.590                            1.239        R  \n",
      "25                          0.770                            0.760        R  \n",
      "26                          0.460                            0.440        R  \n",
      "27                          0.103                            0.099        R  \n",
      "28                          0.840                            0.798        R  \n",
      "29                          0.970                            1.836        R  \n",
      "30                          0.080                            0.072        R  \n",
      "31                          0.170                            0.167        R  \n",
      "32                          0.817                            0.905        R  \n",
      "33                          0.750                            1.472        L  \n",
      "34                          0.670                            0.629        R  \n"
     ]
    }
   ],
   "metadata": {}
  },
  {
   "cell_type": "markdown",
   "source": [
    "Lowest Probability Hit:\r\n",
    "\r\n",
    "30         SL  2021-06-11    single  hit_into_play                          0.080\r\n",
    "\r\n",
    "https://streamable.com/bnwrki\r\n",
    "\r\n",
    "Highest Probability Hits:\r\n",
    "\r\n",
    "8          CH  2021-07-24  home_run  hit_into_play                          0.943\r\n",
    "\r\n",
    "https://streamable.com/817wjg\r\n",
    "\r\n",
    "18         CH  2021-06-30  home_run  hit_into_play                          0.943\r\n",
    "\r\n",
    "https://streamable.com/t2cdsi"
   ],
   "metadata": {}
  },
  {
   "cell_type": "markdown",
   "source": [
    "# Analyzing the strikeout data we have extracted\r\n",
    "Let's count his most common strikeout pitches\r\n",
    "\r\n",
    "Here's a little glossary for pitch abbreviations\r\n",
    "FA = fastball\r\n",
    "FF = four-seam fastball\r\n",
    "FT = two-seam fastball\r\n",
    "FC = fastball (cutter)\r\n",
    "FS / SI / SF = fastball (sinker, split-fingered)\r\n",
    "SL = slider\r\n",
    "CH = changeup\r\n",
    "CB / CU = curveball\r\n",
    "KC = knuckle-curve\r\n",
    "KN = knuckleball\r\n",
    "EP = eephus\r\n",
    "UN / XX = unidentified\r\n",
    "PO / FO = pitch out"
   ],
   "metadata": {}
  },
  {
   "cell_type": "code",
   "execution_count": 18,
   "source": [
    "contains_values_strikeout[\"pitch_type\"].value_counts()\r\n"
   ],
   "outputs": [
    {
     "output_type": "execute_result",
     "data": {
      "text/plain": [
       "FF    15\n",
       "CH    13\n",
       "SL    13\n",
       "SI    10\n",
       "FC     6\n",
       "CU     5\n",
       "FS     4\n",
       "KC     1\n",
       "Name: pitch_type, dtype: int64"
      ]
     },
     "metadata": {},
     "execution_count": 18
    }
   ],
   "metadata": {}
  },
  {
   "cell_type": "markdown",
   "source": [
    "Fastballs: 35 pitches\r\n",
    "Offspeed: 32 pitches\r\n",
    "\r\n",
    "It doesn't appear as if pitch type alone is something that causes Bobby to strike out more or less this year"
   ],
   "metadata": {}
  },
  {
   "cell_type": "code",
   "execution_count": 19,
   "source": [
    "contains_values_strikeout[\"zone\"].value_counts()\r\n"
   ],
   "outputs": [
    {
     "output_type": "execute_result",
     "data": {
      "text/plain": [
       "14    12\n",
       "11     9\n",
       "7      8\n",
       "13     7\n",
       "9      6\n",
       "1      5\n",
       "2      4\n",
       "4      4\n",
       "12     4\n",
       "3      3\n",
       "8      3\n",
       "6      1\n",
       "5      1\n",
       "Name: zone, dtype: int64"
      ]
     },
     "metadata": {},
     "execution_count": 19
    }
   ],
   "metadata": {}
  },
  {
   "cell_type": "markdown",
   "source": [
    "Here is our possible culprit, pitch location!\r\n",
    "\r\n",
    "Nearly a whopping 60% (59.7%) of his strikeouts come from the zones outside of the called strike zone.\r\n",
    "\r\n",
    "Now, obviously good pitchers will get you to swing outside of the called zone, but better plate discipline is certainly something that can be taught and developed."
   ],
   "metadata": {}
  },
  {
   "cell_type": "code",
   "execution_count": 20,
   "source": [
    "vs_pitcher_handedness_dataframe = pd.DataFrame(full_data, columns = [\"pitch_type\", \"game_date\", \"events\", \"description\", \"estimated_ba_using_speedangle\", \"estimated_woba_using_speedangle\", \"p_throws\", \"woba_value\"])\r\n",
    "#print(vs_pitcher_handedness_dataframe)\r\n",
    "vs_pitcher_handedness = vs_pitcher_handedness_dataframe.loc[(vs_pitcher_handedness_dataframe['p_throws'] == \"R\")]\r\n",
    "vs_pitcher_handedness.reset_index(drop=True, inplace=True)\r\n",
    "\r\n",
    "print(vs_pitcher_handedness)"
   ],
   "outputs": [
    {
     "output_type": "stream",
     "name": "stdout",
     "text": [
      "    pitch_type   game_date     events      description  \\\n",
      "0           CH  2021-09-01  field_out    hit_into_play   \n",
      "1           CH  2021-09-01  strikeout    called_strike   \n",
      "2           FF  2021-09-01       None  swinging_strike   \n",
      "3           CH  2021-09-01       None  swinging_strike   \n",
      "4           FF  2021-09-01       None             ball   \n",
      "..         ...         ...        ...              ...   \n",
      "499         CH  2021-06-05       None             foul   \n",
      "500         SI  2021-06-05       None             foul   \n",
      "501         SI  2021-06-05       None             foul   \n",
      "502         SI  2021-06-05       None  swinging_strike   \n",
      "503         SI  2021-06-05       None             ball   \n",
      "\n",
      "     estimated_ba_using_speedangle  estimated_woba_using_speedangle p_throws  \\\n",
      "0                             0.12                            0.117        R   \n",
      "1                              NaN                              NaN        R   \n",
      "2                              NaN                              NaN        R   \n",
      "3                              NaN                              NaN        R   \n",
      "4                              NaN                              NaN        R   \n",
      "..                             ...                              ...      ...   \n",
      "499                            NaN                              NaN        R   \n",
      "500                            NaN                              NaN        R   \n",
      "501                            NaN                              NaN        R   \n",
      "502                            NaN                              NaN        R   \n",
      "503                            NaN                              NaN        R   \n",
      "\n",
      "     woba_value  \n",
      "0           0.0  \n",
      "1           0.0  \n",
      "2           NaN  \n",
      "3           NaN  \n",
      "4           NaN  \n",
      "..          ...  \n",
      "499         NaN  \n",
      "500         NaN  \n",
      "501         NaN  \n",
      "502         NaN  \n",
      "503         NaN  \n",
      "\n",
      "[504 rows x 8 columns]\n"
     ]
    }
   ],
   "metadata": {}
  }
 ],
 "metadata": {
  "orig_nbformat": 4,
  "language_info": {
   "name": "python",
   "version": "3.9.7",
   "mimetype": "text/x-python",
   "codemirror_mode": {
    "name": "ipython",
    "version": 3
   },
   "pygments_lexer": "ipython3",
   "nbconvert_exporter": "python",
   "file_extension": ".py"
  },
  "kernelspec": {
   "name": "python3",
   "display_name": "Python 3.9.7 64-bit"
  },
  "interpreter": {
   "hash": "33dd69cee429637b7e5ecec627a020ea90e31b3e49cd6e65c8a2e3436c15fe25"
  }
 },
 "nbformat": 4,
 "nbformat_minor": 2
}