{
 "cells": [
  {
   "cell_type": "markdown",
   "metadata": {},
   "source": [
    "# How will the implimentation of a league wide DH affect National league Offenses?\n",
    "\n",
    "There is much speculation that the new CBA (to be agreed on this winter -- hopefully) will include a unviversal DH for both leagues in MLB. But just how would this affect the NL which has survived without for the last 48 years? Let's look at the data and find out."
   ]
  },
  {
   "cell_type": "code",
   "execution_count": 35,
   "metadata": {},
   "outputs": [],
   "source": [
    "import urllib.request\n",
    "import os.path\n",
    "import zipfile\n",
    "import pandas as pd"
   ]
  },
  {
   "cell_type": "code",
   "execution_count": 36,
   "metadata": {},
   "outputs": [
    {
     "name": "stdout",
     "output_type": "stream",
     "text": [
      "Extracted all\n",
      "Extracted all\n"
     ]
    }
   ],
   "source": [
    "# let's download the data from 2010-2020\n",
    "# sure, we could get all the way back to 1973 but I believe this is a large enough sample size that truly represents\n",
    "# the modern game\n",
    "if not os.path.exists('2010-19_data.zip'):\n",
    "    urllib.request.urlretrieve('https://www.retrosheet.org/gamelogs/gl2010_19.zip', '2010-19_data.zip')\n",
    "if not os.path.exists('2020-20_data.zip'):\n",
    "    urllib.request.urlretrieve('https://www.retrosheet.org/gamelogs/gl2020_20.zip', '2020-20_data.zip')\n",
    "\n",
    "# extract the data\n",
    "try:\n",
    "    with zipfile.ZipFile('2010-19_data.zip') as z:\n",
    "        z.extractall()\n",
    "        print(\"Extracted all\")\n",
    "except:\n",
    "    print(\"Invalid file\")\n",
    "    \n",
    "try:\n",
    "    with zipfile.ZipFile('2020-20_data.zip') as z:\n",
    "        z.extractall()\n",
    "        print(\"Extracted all\")\n",
    "except:\n",
    "    print(\"Invalid file\")"
   ]
  },
  {
   "cell_type": "markdown",
   "metadata": {},
   "source": [
    "## Below, let's analyze their away data (with the DH) first"
   ]
  },
  {
   "cell_type": "code",
   "execution_count": 37,
   "metadata": {},
   "outputs": [
    {
     "name": "stdout",
     "output_type": "stream",
     "text": [
      "     20100404  0  Sun  NYA  AL    1  BOS AL.1  1.1   7  ...       J.D. Drew  \\\n",
      "0    20100405  0  Mon  MIN  AL    1  ANA   AL    1   3  ...  Howie Kendrick   \n",
      "1    20100405  0  Mon  COL  NL    1  MIL   NL    1   5  ...      Gregg Zaun   \n",
      "2    20100405  0  Mon  PHI  NL    1  WAS   NL    1  11  ...  Ivan Rodriguez   \n",
      "3    20100406  0  Tue  MIN  AL    2  ANA   AL    2   5  ...  Howie Kendrick   \n",
      "4    20100406  0  Tue  COL  NL    2  MIL   NL    2   5  ...      Corey Hart   \n",
      "..        ... ..  ...  ...  ..  ...  ...  ...  ...  ..  ...             ...   \n",
      "562  20101002  0  Sat  COL  NL  161  SLN   NL  161   0  ...   Matt Pagnozzi   \n",
      "563  20101003  0  Sun  PHI  NL  162  ATL   NL  162   7  ...   Brooks Conrad   \n",
      "564  20101003  0  Sun  PIT  NL  162  FLO   NL  162   2  ...       Wes Helms   \n",
      "565  20101003  0  Sun  ARI  NL  162  LAN   NL  162   1  ...     Brad Ausmus   \n",
      "566  20101003  0  Sun  COL  NL  162  SLN   NL  162   1  ...   Matt Pagnozzi   \n",
      "\n",
      "     9.4  camem001     Mike Cameron  8.4  scutm001    Marco Scutaro  6.5  \\\n",
      "0      4  woodb003     Brandon Wood    5  mathj001      Jeff Mathis    2   \n",
      "1      2  escoa003  Alcides Escobar    6  gally001  Yovani Gallardo    1   \n",
      "2      2  desmi001      Ian Desmond    6  lannj001      John Lannan    1   \n",
      "3      4  woodb003     Brandon Wood    5  mathj001      Jeff Mathis    2   \n",
      "4      9  escoa003  Alcides Escobar    6  wolfr001       Randy Wolf    1   \n",
      "..   ...       ...              ...  ...       ...              ...  ...   \n",
      "562    2  descd001  Daniel Descalso    5  lohsk001       Kyle Lohse    1   \n",
      "563    4  ankir001      Rick Ankiel    8  hudst001       Tim Hudson    1   \n",
      "564    5  davib004       Brad Davis    2  sanca004   Anibal Sanchez    1   \n",
      "565    2  johnr008     Reed Johnson    7  lillt001        Ted Lilly    1   \n",
      "566    2  ryanb002     Brendan Ryan    6  suppj001      Jeff Suppan    1   \n",
      "\n",
      "     Unnamed: 159  Y  \n",
      "0             NaN  Y  \n",
      "1             NaN  Y  \n",
      "2             NaN  Y  \n",
      "3             NaN  Y  \n",
      "4             NaN  Y  \n",
      "..            ... ..  \n",
      "562           NaN  Y  \n",
      "563           NaN  Y  \n",
      "564           NaN  Y  \n",
      "565           NaN  Y  \n",
      "566           NaN  Y  \n",
      "\n",
      "[567 rows x 161 columns]\n"
     ]
    }
   ],
   "source": [
    "# load extracted files as CSV data\n",
    "filenames = ['GL2010.TXT', 'GL2011.TXT', 'GL2012.TXT', 'GL2013.TXT', 'GL2014.TXT', 'GL2015.TXT', 'GL2016.TXT', 'GL2016.TXT', 'GL2017.TXT', 'GL2018.TXT', 'GL2019.TXT', 'GL2020.TXT']\n",
    "file = pd.read_csv('GL2010.TXT')\n",
    "\n",
    "\n",
    "# only want games where AL was home team\n",
    "data = file.loc[file.iloc[:, 7] == 'AL']\n",
    "#print(data)\n",
    "\n",
    "NL_teams = ['LAD', 'SFG', 'COL', 'SDP', 'ARI', 'PIT', 'CHC', 'CIN', 'STL', 'MIN', 'WSN', 'MIA', 'NYM', 'PHI', 'ATL']\n",
    "\n",
    "# now we only want games where the away team was an NL team\n",
    "# and reset their order\n",
    "data = file.loc[file.iloc[:, 3].isin(NL_teams)]\n",
    "data.reset_index(drop=True, inplace=True)\n",
    "#print(data)\n"
   ]
  }
 ],
 "metadata": {
  "interpreter": {
   "hash": "30baac6a39d7c6da256e0b50a9829ac49398c5e2afa8a349da03b48da40717a3"
  },
  "kernelspec": {
   "display_name": "Python 3.8.10 64-bit",
   "language": "python",
   "name": "python3"
  },
  "language_info": {
   "codemirror_mode": {
    "name": "ipython",
    "version": 3
   },
   "file_extension": ".py",
   "mimetype": "text/x-python",
   "name": "python",
   "nbconvert_exporter": "python",
   "pygments_lexer": "ipython3",
   "version": "3.8.10"
  },
  "orig_nbformat": 4
 },
 "nbformat": 4,
 "nbformat_minor": 2
}
